{
 "cells": [
  {
   "cell_type": "markdown",
   "id": "b74804fc",
   "metadata": {},
   "source": [
    "# Setting up our Notebook"
   ]
  },
  {
   "cell_type": "code",
   "execution_count": 51,
   "id": "e99fb49b",
   "metadata": {},
   "outputs": [
    {
     "name": "stdout",
     "output_type": "stream",
     "text": [
      "Today's Date: May 31, 2022\n",
      "NLTK Version: 3.7\n"
     ]
    }
   ],
   "source": [
    "# Importing things we will need\n",
    "\n",
    "from datetime import date\n",
    "\n",
    "# Basic Mathematical/Data tools\n",
    "import numpy as np\n",
    "import pandas as pd\n",
    "import matplotlib.pyplot as plt\n",
    "import seaborn as sns\n",
    "import os\n",
    "\n",
    "import textract as txtrct\n",
    "\n",
    "# Natural Language Toolkit\n",
    "import nltk\n",
    "from nltk.corpus import stopwords\n",
    "from nltk.tokenize import RegexpTokenizer\n",
    "from nltk import sent_tokenize\n",
    "\n",
    "# nltk.download('punkt')\n",
    "# nltk.download('stopwords')\n",
    "\n",
    "import collections\n",
    "import re\n",
    "\n",
    "# sci-kit learn\n",
    "from sklearn.feature_extraction.text import TfidfVectorizer, CountVectorizer\n",
    "from sklearn.model_selection import train_test_split\n",
    "from sklearn.linear_model import LogisticRegression\n",
    "from sklearn.tree import DecisionTreeClassifier\n",
    "from sklearn.metrics import roc_curve, confusion_matrix, auc\n",
    "\n",
    "# Textual month, day and year\n",
    "today = date.today()\n",
    "\n",
    "# Versions\n",
    "print(\"Today's Date:\", today.strftime(\"%B %d, %Y\"))\n",
    "print('NLTK Version:', nltk.__version__)"
   ]
  },
  {
   "cell_type": "markdown",
   "id": "1c2be345",
   "metadata": {},
   "source": [
    "# Importing our File/s"
   ]
  },
  {
   "cell_type": "code",
   "execution_count": 2,
   "id": "da7a5a28",
   "metadata": {},
   "outputs": [],
   "source": [
    "# Opening our file\n",
    "\n",
    "# Note: We can open it with read(), readline(), or readline()\n",
    "# See: https://www.pythontutorial.net/python-basics/python-read-text-file/\n",
    "\n",
    "with open(\"Data/Orbit.txt\", \"r\", encoding=\"unicode_escape\") as file:\n",
    "    text = file.read()"
   ]
  },
  {
   "cell_type": "code",
   "execution_count": 3,
   "id": "79a6cb47",
   "metadata": {},
   "outputs": [
    {
     "name": "stdout",
     "output_type": "stream",
     "text": [
      "Christopher Clark\n",
      "565 Cleve Cole Rd.\n",
      "(972) 854-9024\n",
      "Christopher.w.clark89@gmail.com\n",
      "\n",
      "\n",
      "\n",
      "13,900 words\n",
      "\n"
     ]
    }
   ],
   "source": [
    "print(text[0:100])"
   ]
  },
  {
   "cell_type": "markdown",
   "id": "d9b03f68",
   "metadata": {},
   "source": [
    "# Pre-processing"
   ]
  },
  {
   "cell_type": "markdown",
   "id": "a1c591b7",
   "metadata": {},
   "source": [
    "## Tokenizing"
   ]
  },
  {
   "cell_type": "code",
   "execution_count": 4,
   "id": "440754fb",
   "metadata": {},
   "outputs": [],
   "source": [
    "# Simpler text to print in it's entirety\n",
    "\n",
    "text=\"Well, hello, there! My name is Chris and I am learning a bit about how to do some Natural Language Processing through interactive projects! I hope to learn so much for my projects.\""
   ]
  },
  {
   "cell_type": "code",
   "execution_count": 5,
   "id": "4c0e543c",
   "metadata": {},
   "outputs": [],
   "source": [
    "# Separating the text into words\n",
    "word_tokens=nltk.word_tokenize(text)"
   ]
  },
  {
   "cell_type": "code",
   "execution_count": 6,
   "id": "f58a8cee",
   "metadata": {},
   "outputs": [
    {
     "name": "stdout",
     "output_type": "stream",
     "text": [
      "There are 38 word tokens in this document.\n",
      "They are: \n",
      " ['Well', ',', 'hello', ',', 'there', '!', 'My', 'name', 'is', 'Chris', 'and', 'I', 'am', 'learning', 'a', 'bit', 'about', 'how', 'to', 'do', 'some', 'Natural', 'Language', 'Processing', 'through', 'interactive', 'projects', '!', 'I', 'hope', 'to', 'learn', 'so', 'much', 'for', 'my', 'projects', '.']\n"
     ]
    }
   ],
   "source": [
    "print('There are', len(word_tokens), 'word tokens in this document.')\n",
    "print('They are:', '\\n', word_tokens)"
   ]
  },
  {
   "cell_type": "code",
   "execution_count": 7,
   "id": "1299f668",
   "metadata": {},
   "outputs": [],
   "source": [
    "# Separating the text into sentences\n",
    "sent_tokens=nltk.sent_tokenize(text)"
   ]
  },
  {
   "cell_type": "code",
   "execution_count": 8,
   "id": "1131aa0f",
   "metadata": {},
   "outputs": [
    {
     "name": "stdout",
     "output_type": "stream",
     "text": [
      "There are 3 sentences in this document.\n",
      "They are: \n",
      " ['Well, hello, there!', 'My name is Chris and I am learning a bit about how to do some Natural Language Processing through interactive projects!', 'I hope to learn so much for my projects.']\n"
     ]
    }
   ],
   "source": [
    "sent_tokens\n",
    "print('There are', len(sent_tokens), 'sentences in this document.')\n",
    "print('They are:', '\\n', sent_tokens)"
   ]
  },
  {
   "cell_type": "markdown",
   "id": "4001aa21",
   "metadata": {},
   "source": [
    "## Cleaning up our text"
   ]
  },
  {
   "cell_type": "code",
   "execution_count": 9,
   "id": "10e8403d",
   "metadata": {},
   "outputs": [
    {
     "name": "stdout",
     "output_type": "stream",
     "text": [
      "Here are some examples of stop words in English: ['i', 'me', 'my', 'myself', 'we', 'our', 'ours', 'ourselves', 'you', \"you're\"]\n"
     ]
    }
   ],
   "source": [
    "# Stop words\n",
    "print('Here are some examples of stop words in English:',stopwords.words('english')[0:10])"
   ]
  },
  {
   "cell_type": "code",
   "execution_count": 10,
   "id": "25a9dc42",
   "metadata": {},
   "outputs": [],
   "source": [
    "# Removing \"stop\" words\n",
    "\n",
    "def remove_stop_words(text):\n",
    "    remove_lower_stop_words=[word for word in text if word.lower() not in stopwords.words('english')]\n",
    "    upper_stop_words=[word.upper() for word in stopwords.words('english')]\n",
    "    remove_upper_stop_words=[word for word in remove_lower_stop_words if word.upper() not in upper_stop_words]\n",
    "    text_minus_stop_words=remove_upper_stop_words\n",
    "    \n",
    "    return text_minus_stop_words\n",
    "    \n",
    "tokens=remove_stop_words(word_tokens)\n"
   ]
  },
  {
   "cell_type": "code",
   "execution_count": 11,
   "id": "fcd27170",
   "metadata": {},
   "outputs": [
    {
     "name": "stdout",
     "output_type": "stream",
     "text": [
      "We have removed the stop words. Here is what the first couple of elements look like: ['Well', ',', 'hello', ',', '!', 'name', 'Chris', 'learning', 'bit', 'Natural']\n"
     ]
    }
   ],
   "source": [
    "print('We have removed the stop words. Here is what the first couple of elements look like:', tokens[0:10])"
   ]
  },
  {
   "cell_type": "code",
   "execution_count": 12,
   "id": "92958b41",
   "metadata": {},
   "outputs": [],
   "source": [
    "# Removing punctuation\n",
    "\n",
    "def remove_punct(text):\n",
    "    tokenizer = RegexpTokenizer(r'\\w+')\n",
    "    punct_removed = tokenizer.tokenize(str(text))\n",
    "    \n",
    "    return punct_removed"
   ]
  },
  {
   "cell_type": "code",
   "execution_count": 13,
   "id": "c3f94970",
   "metadata": {},
   "outputs": [
    {
     "name": "stdout",
     "output_type": "stream",
     "text": [
      "We have removed the punctuation. Here is what the first couple of elements look like: ['Well', 'hello', 'name', 'Chris', 'learning', 'bit', 'Natural', 'Language', 'Processing', 'interactive']\n"
     ]
    }
   ],
   "source": [
    "tokens=remove_punct(tokens)\n",
    "print('We have removed the punctuation. Here is what the first couple of elements look like:', tokens[0:10])"
   ]
  },
  {
   "cell_type": "code",
   "execution_count": 14,
   "id": "84adbd27",
   "metadata": {},
   "outputs": [
    {
     "name": "stdout",
     "output_type": "stream",
     "text": [
      "We have made everything lower case. Here are the first several elements: ['well', 'hello', 'name', 'chris', 'learning', 'bit', 'natural', 'language', 'processing', 'interactive']\n"
     ]
    }
   ],
   "source": [
    "# Now, let's just make it all lower case\n",
    "tokens=[word.lower() for word in tokens]\n",
    "print('We have made everything lower case. Here are the first several elements:', tokens[0:10])"
   ]
  },
  {
   "cell_type": "markdown",
   "id": "d1a7cc9e",
   "metadata": {},
   "source": [
    "# Bag of Words (BoW) and Term Frequency Inverse Document Frequency"
   ]
  },
  {
   "cell_type": "markdown",
   "id": "69b60f47",
   "metadata": {},
   "source": [
    "# Mathematical Definitions"
   ]
  },
  {
   "cell_type": "markdown",
   "id": "cb870b33",
   "metadata": {},
   "source": [
    "The *Bag of Words* preprocessing/model can be defined simply as a dictionary containing the words in a sentence/document with their counts. Mathematically, this is:\n",
    "\n",
    "$$BoW_L = \\{ 'word':c_{word} \\}$$\n",
    "\n",
    "Certain functions, like *CountVectorizor* is ski-kit learn will instead, with $\\texttt{.todense()}$, will instead return a matrix of size $n×m$, where $n$ is the number of sentences or documents and $m$ is the number of unique words (after tokenization).\n",
    "\n",
    "Instead of a simple count, we can instead use *Term Frequency-Inverse Document Frequency*, which is a combination *Term Frequency* ($TF$) and *Inverse Document Frequency* ($IDF$). \n",
    "\n",
    "We define $TF$ as:\n",
    "\n",
    "$$TF(t,d)=\\frac{f_{t,d}}{\\sum_{t' \\in d} f_{t',d}}$$\n",
    "\n",
    "We define $IDF$ as:\n",
    "\n",
    "$$ IDF(t,d,\\mathcal{D}) = \\log \\frac{|\\mathcal{D}|}{|\\{d \\in \\mathcal{D}: t\\in d|}$$ "
   ]
  },
  {
   "cell_type": "markdown",
   "id": "5c9b0518",
   "metadata": {},
   "source": [
    "## Preprocessing"
   ]
  },
  {
   "cell_type": "markdown",
   "id": "ce3ab72a",
   "metadata": {},
   "source": [
    "We are now playing with our sentences. We can also think of this list as being several texts we want to analyse. "
   ]
  },
  {
   "cell_type": "code",
   "execution_count": 15,
   "id": "643d0a0f",
   "metadata": {},
   "outputs": [
    {
     "data": {
      "text/plain": [
       "['Well, hello, there!',\n",
       " 'My name is Chris and I am learning a bit about how to do some Natural Language Processing through interactive projects!',\n",
       " 'I hope to learn so much for my projects.']"
      ]
     },
     "execution_count": 15,
     "metadata": {},
     "output_type": "execute_result"
    }
   ],
   "source": [
    "sent_tokens"
   ]
  },
  {
   "cell_type": "code",
   "execution_count": 16,
   "id": "d2cf031e",
   "metadata": {},
   "outputs": [],
   "source": [
    "def bag_of_words(text):\n",
    "    bag_of_words = [collections.Counter(re.findall(r'\\w+',word)) for word in text]\n",
    "    text_bow = sum(bag_of_words, collections.Counter())\n",
    "    \n",
    "    return text_bow\n",
    "    "
   ]
  },
  {
   "cell_type": "code",
   "execution_count": 17,
   "id": "18dda698",
   "metadata": {},
   "outputs": [
    {
     "name": "stdout",
     "output_type": "stream",
     "text": [
      "Here is a our simple BoW model: \n",
      " Counter({'projects': 2, 'well': 1, 'hello': 1, 'name': 1, 'chris': 1, 'learning': 1, 'bit': 1, 'natural': 1, 'language': 1, 'processing': 1, 'interactive': 1, 'hope': 1, 'learn': 1, 'much': 1}) \n",
      " It has 14 words.\n"
     ]
    }
   ],
   "source": [
    "print('Here is a our simple BoW model:','\\n',bag_of_words(tokens), '\\n', 'It has', len(bag_of_words(tokens)), 'words.')"
   ]
  },
  {
   "cell_type": "code",
   "execution_count": 18,
   "id": "e9999ad0",
   "metadata": {},
   "outputs": [
    {
     "name": "stdout",
     "output_type": "stream",
     "text": [
      "Data shape: (3, 11)\n",
      "Here is our sci-kit learn BoW model:\n",
      "Matrix: \n",
      " [[0 0 1 0 0 0 0 0 0 0 0]\n",
      " [1 1 0 0 1 1 0 1 1 1 1]\n",
      " [0 0 0 1 0 0 1 0 0 0 1]]\n",
      "There are 11 features and they are: \n",
      " ['bit' 'chris' 'hello' 'hope' 'interactive' 'language' 'learn' 'learning'\n",
      " 'natural' 'processing' 'projects']\n"
     ]
    }
   ],
   "source": [
    "def bow_sklearn(text=sent_tokens):\n",
    "    c = CountVectorizer(stop_words='english', token_pattern=r'\\w+')\n",
    "    # In our CountVectorizer, we need stop words and punctuation\n",
    "    converted_data = c.fit_transform(text).todense()\n",
    "    print('Data shape:',converted_data.shape)\n",
    "    return converted_data, c.get_feature_names_out()\n",
    "\n",
    "bow_data, feature_names = bow_sklearn()\n",
    "print('Here is our sci-kit learn BoW model:')\n",
    "print('Matrix:','\\n',bow_data)\n",
    "print('There are', len(feature_names), 'features and they are:', '\\n',feature_names)"
   ]
  },
  {
   "cell_type": "markdown",
   "id": "ddeee564",
   "metadata": {},
   "source": [
    "It seems as if we have a difference of words. Let's compare the stop words from nltk and sci-kit learn."
   ]
  },
  {
   "cell_type": "code",
   "execution_count": 19,
   "id": "9c9663ec",
   "metadata": {},
   "outputs": [
    {
     "name": "stdout",
     "output_type": "stream",
     "text": [
      "The NLTK package has 179 words.\n",
      "The sci-kit learn package has 318 words.\n"
     ]
    }
   ],
   "source": [
    "# Comparing the set of stop words\n",
    "\n",
    "from sklearn.feature_extraction import _stop_words\n",
    "\n",
    "sklearn_stop_words = _stop_words.ENGLISH_STOP_WORDS\n",
    "print('The NLTK package has', len(stopwords.words('english')), 'words.')\n",
    "print('The sci-kit learn package has', len(sklearn_stop_words), 'words.')"
   ]
  },
  {
   "cell_type": "markdown",
   "id": "bc464401",
   "metadata": {},
   "source": [
    "So, yes, sci-kit learn simple has a larger corpus of stop words."
   ]
  },
  {
   "cell_type": "markdown",
   "id": "4a6921d3",
   "metadata": {},
   "source": [
    "## Example: Spam Detection"
   ]
  },
  {
   "cell_type": "markdown",
   "id": "a224674f",
   "metadata": {},
   "source": [
    "### Preprocessing our Spam Dataset"
   ]
  },
  {
   "cell_type": "code",
   "execution_count": 20,
   "id": "e5f208e0",
   "metadata": {},
   "outputs": [],
   "source": [
    "from sklearn.preprocessing import LabelEncoder"
   ]
  },
  {
   "cell_type": "code",
   "execution_count": 21,
   "id": "5455603e",
   "metadata": {},
   "outputs": [
    {
     "data": {
      "text/html": [
       "<div>\n",
       "<style scoped>\n",
       "    .dataframe tbody tr th:only-of-type {\n",
       "        vertical-align: middle;\n",
       "    }\n",
       "\n",
       "    .dataframe tbody tr th {\n",
       "        vertical-align: top;\n",
       "    }\n",
       "\n",
       "    .dataframe thead th {\n",
       "        text-align: right;\n",
       "    }\n",
       "</style>\n",
       "<table border=\"1\" class=\"dataframe\">\n",
       "  <thead>\n",
       "    <tr style=\"text-align: right;\">\n",
       "      <th></th>\n",
       "      <th>0</th>\n",
       "      <th>1</th>\n",
       "      <th>2</th>\n",
       "      <th>3</th>\n",
       "      <th>4</th>\n",
       "      <th>5</th>\n",
       "      <th>6</th>\n",
       "      <th>7</th>\n",
       "      <th>8</th>\n",
       "      <th>9</th>\n",
       "      <th>10</th>\n",
       "      <th>11</th>\n",
       "      <th>12</th>\n",
       "      <th>13</th>\n",
       "      <th>14</th>\n",
       "    </tr>\n",
       "  </thead>\n",
       "  <tbody>\n",
       "    <tr>\n",
       "      <th>0</th>\n",
       "      <td>0</td>\n",
       "      <td>Go until jurong point</td>\n",
       "      <td>crazy.. Available only in bugis n great world...</td>\n",
       "      <td>None</td>\n",
       "      <td>None</td>\n",
       "      <td>None</td>\n",
       "      <td>None</td>\n",
       "      <td>None</td>\n",
       "      <td>None</td>\n",
       "      <td>None</td>\n",
       "      <td>None</td>\n",
       "      <td>None</td>\n",
       "      <td>None</td>\n",
       "      <td>None</td>\n",
       "      <td>None</td>\n",
       "    </tr>\n",
       "    <tr>\n",
       "      <th>1</th>\n",
       "      <td>0</td>\n",
       "      <td>Ok lar... Joking wif u oni...</td>\n",
       "      <td>None</td>\n",
       "      <td>None</td>\n",
       "      <td>None</td>\n",
       "      <td>None</td>\n",
       "      <td>None</td>\n",
       "      <td>None</td>\n",
       "      <td>None</td>\n",
       "      <td>None</td>\n",
       "      <td>None</td>\n",
       "      <td>None</td>\n",
       "      <td>None</td>\n",
       "      <td>None</td>\n",
       "      <td>None</td>\n",
       "    </tr>\n",
       "    <tr>\n",
       "      <th>2</th>\n",
       "      <td>1</td>\n",
       "      <td>Free entry in 2 a wkly comp to win FA Cup fina...</td>\n",
       "      <td>None</td>\n",
       "      <td>None</td>\n",
       "      <td>None</td>\n",
       "      <td>None</td>\n",
       "      <td>None</td>\n",
       "      <td>None</td>\n",
       "      <td>None</td>\n",
       "      <td>None</td>\n",
       "      <td>None</td>\n",
       "      <td>None</td>\n",
       "      <td>None</td>\n",
       "      <td>None</td>\n",
       "      <td>None</td>\n",
       "    </tr>\n",
       "    <tr>\n",
       "      <th>3</th>\n",
       "      <td>0</td>\n",
       "      <td>U dun say so early hor... U c already then say...</td>\n",
       "      <td>None</td>\n",
       "      <td>None</td>\n",
       "      <td>None</td>\n",
       "      <td>None</td>\n",
       "      <td>None</td>\n",
       "      <td>None</td>\n",
       "      <td>None</td>\n",
       "      <td>None</td>\n",
       "      <td>None</td>\n",
       "      <td>None</td>\n",
       "      <td>None</td>\n",
       "      <td>None</td>\n",
       "      <td>None</td>\n",
       "    </tr>\n",
       "    <tr>\n",
       "      <th>4</th>\n",
       "      <td>0</td>\n",
       "      <td>Nah I dont think he goes to usf</td>\n",
       "      <td>he lives around here though</td>\n",
       "      <td>None</td>\n",
       "      <td>None</td>\n",
       "      <td>None</td>\n",
       "      <td>None</td>\n",
       "      <td>None</td>\n",
       "      <td>None</td>\n",
       "      <td>None</td>\n",
       "      <td>None</td>\n",
       "      <td>None</td>\n",
       "      <td>None</td>\n",
       "      <td>None</td>\n",
       "      <td>None</td>\n",
       "    </tr>\n",
       "    <tr>\n",
       "      <th>...</th>\n",
       "      <td>...</td>\n",
       "      <td>...</td>\n",
       "      <td>...</td>\n",
       "      <td>...</td>\n",
       "      <td>...</td>\n",
       "      <td>...</td>\n",
       "      <td>...</td>\n",
       "      <td>...</td>\n",
       "      <td>...</td>\n",
       "      <td>...</td>\n",
       "      <td>...</td>\n",
       "      <td>...</td>\n",
       "      <td>...</td>\n",
       "      <td>...</td>\n",
       "      <td>...</td>\n",
       "    </tr>\n",
       "    <tr>\n",
       "      <th>5569</th>\n",
       "      <td>1</td>\n",
       "      <td>This is the 2nd time we have tried 2 contact u...</td>\n",
       "      <td>call 087187272008 NOW1 Only 10p per minute. B...</td>\n",
       "      <td>None</td>\n",
       "      <td>None</td>\n",
       "      <td>None</td>\n",
       "      <td>None</td>\n",
       "      <td>None</td>\n",
       "      <td>None</td>\n",
       "      <td>None</td>\n",
       "      <td>None</td>\n",
       "      <td>None</td>\n",
       "      <td>None</td>\n",
       "      <td>None</td>\n",
       "      <td>None</td>\n",
       "    </tr>\n",
       "    <tr>\n",
       "      <th>5570</th>\n",
       "      <td>0</td>\n",
       "      <td>Will  b going to esplanade fr home</td>\n",
       "      <td>None</td>\n",
       "      <td>None</td>\n",
       "      <td>None</td>\n",
       "      <td>None</td>\n",
       "      <td>None</td>\n",
       "      <td>None</td>\n",
       "      <td>None</td>\n",
       "      <td>None</td>\n",
       "      <td>None</td>\n",
       "      <td>None</td>\n",
       "      <td>None</td>\n",
       "      <td>None</td>\n",
       "      <td>None</td>\n",
       "    </tr>\n",
       "    <tr>\n",
       "      <th>5571</th>\n",
       "      <td>0</td>\n",
       "      <td>Pity</td>\n",
       "      <td>was in mood for that. So...any other suggest...</td>\n",
       "      <td>None</td>\n",
       "      <td>None</td>\n",
       "      <td>None</td>\n",
       "      <td>None</td>\n",
       "      <td>None</td>\n",
       "      <td>None</td>\n",
       "      <td>None</td>\n",
       "      <td>None</td>\n",
       "      <td>None</td>\n",
       "      <td>None</td>\n",
       "      <td>None</td>\n",
       "      <td>None</td>\n",
       "    </tr>\n",
       "    <tr>\n",
       "      <th>5572</th>\n",
       "      <td>0</td>\n",
       "      <td>The guy did some bitching but I acted like id ...</td>\n",
       "      <td>None</td>\n",
       "      <td>None</td>\n",
       "      <td>None</td>\n",
       "      <td>None</td>\n",
       "      <td>None</td>\n",
       "      <td>None</td>\n",
       "      <td>None</td>\n",
       "      <td>None</td>\n",
       "      <td>None</td>\n",
       "      <td>None</td>\n",
       "      <td>None</td>\n",
       "      <td>None</td>\n",
       "      <td>None</td>\n",
       "    </tr>\n",
       "    <tr>\n",
       "      <th>5573</th>\n",
       "      <td>0</td>\n",
       "      <td>Rofl. Its true to its name</td>\n",
       "      <td>None</td>\n",
       "      <td>None</td>\n",
       "      <td>None</td>\n",
       "      <td>None</td>\n",
       "      <td>None</td>\n",
       "      <td>None</td>\n",
       "      <td>None</td>\n",
       "      <td>None</td>\n",
       "      <td>None</td>\n",
       "      <td>None</td>\n",
       "      <td>None</td>\n",
       "      <td>None</td>\n",
       "      <td>None</td>\n",
       "    </tr>\n",
       "  </tbody>\n",
       "</table>\n",
       "<p>5574 rows × 15 columns</p>\n",
       "</div>"
      ],
      "text/plain": [
       "      0                                                  1   \\\n",
       "0      0                              Go until jurong point   \n",
       "1      0                      Ok lar... Joking wif u oni...   \n",
       "2      1  Free entry in 2 a wkly comp to win FA Cup fina...   \n",
       "3      0  U dun say so early hor... U c already then say...   \n",
       "4      0                    Nah I dont think he goes to usf   \n",
       "...   ..                                                ...   \n",
       "5569   1  This is the 2nd time we have tried 2 contact u...   \n",
       "5570   0                 Will  b going to esplanade fr home   \n",
       "5571   0                                               Pity   \n",
       "5572   0  The guy did some bitching but I acted like id ...   \n",
       "5573   0                         Rofl. Its true to its name   \n",
       "\n",
       "                                                     2     3     4     5   \\\n",
       "0      crazy.. Available only in bugis n great world...  None  None  None   \n",
       "1                                                  None  None  None  None   \n",
       "2                                                  None  None  None  None   \n",
       "3                                                  None  None  None  None   \n",
       "4                           he lives around here though  None  None  None   \n",
       "...                                                 ...   ...   ...   ...   \n",
       "5569   call 087187272008 NOW1 Only 10p per minute. B...  None  None  None   \n",
       "5570                                               None  None  None  None   \n",
       "5571    was in mood for that. So...any other suggest...  None  None  None   \n",
       "5572                                               None  None  None  None   \n",
       "5573                                               None  None  None  None   \n",
       "\n",
       "        6     7     8     9     10    11    12    13    14  \n",
       "0     None  None  None  None  None  None  None  None  None  \n",
       "1     None  None  None  None  None  None  None  None  None  \n",
       "2     None  None  None  None  None  None  None  None  None  \n",
       "3     None  None  None  None  None  None  None  None  None  \n",
       "4     None  None  None  None  None  None  None  None  None  \n",
       "...    ...   ...   ...   ...   ...   ...   ...   ...   ...  \n",
       "5569  None  None  None  None  None  None  None  None  None  \n",
       "5570  None  None  None  None  None  None  None  None  None  \n",
       "5571  None  None  None  None  None  None  None  None  None  \n",
       "5572  None  None  None  None  None  None  None  None  None  \n",
       "5573  None  None  None  None  None  None  None  None  None  \n",
       "\n",
       "[5574 rows x 15 columns]"
      ]
     },
     "execution_count": 21,
     "metadata": {},
     "output_type": "execute_result"
    }
   ],
   "source": [
    "emails=pd.read_csv('Data/Email Collection.csv', delimiter=',', header=None)\n",
    "emails = emails.astype(object).replace(np.nan, 'None')\n",
    "# Note, to get this to work, I had to remove the first line where it had the column names\n",
    "\n",
    "emails"
   ]
  },
  {
   "cell_type": "markdown",
   "id": "6887c17a",
   "metadata": {},
   "source": [
    "We see that sometimes, there's things in the second text column. Let's combine them into just the first text column."
   ]
  },
  {
   "cell_type": "code",
   "execution_count": 22,
   "id": "b03d1b8b",
   "metadata": {},
   "outputs": [
    {
     "name": "stderr",
     "output_type": "stream",
     "text": [
      "C:\\Users\\chris\\AppData\\Local\\Temp\\ipykernel_15876\\3202753951.py:3: SettingWithCopyWarning: \n",
      "A value is trying to be set on a copy of a slice from a DataFrame\n",
      "\n",
      "See the caveats in the documentation: https://pandas.pydata.org/pandas-docs/stable/user_guide/indexing.html#returning-a-view-versus-a-copy\n",
      "  emails[1][i] = str(emails[1][i])+str(emails[2][i])\n"
     ]
    }
   ],
   "source": [
    "for i in range(len(emails)):\n",
    "    if emails[2][i] != 'None':\n",
    "        emails[1][i] = str(emails[1][i])+str(emails[2][i])"
   ]
  },
  {
   "cell_type": "code",
   "execution_count": 23,
   "id": "ed120ab4",
   "metadata": {},
   "outputs": [],
   "source": [
    "# Getting only what we want from the emails and making a new dataframe\n",
    "emails_df=pd.DataFrame(np.array([list(emails[0]), list(emails[1])]).T, columns=['Label', 'Text'])"
   ]
  },
  {
   "cell_type": "code",
   "execution_count": 24,
   "id": "c5784e64",
   "metadata": {},
   "outputs": [
    {
     "data": {
      "text/html": [
       "<div>\n",
       "<style scoped>\n",
       "    .dataframe tbody tr th:only-of-type {\n",
       "        vertical-align: middle;\n",
       "    }\n",
       "\n",
       "    .dataframe tbody tr th {\n",
       "        vertical-align: top;\n",
       "    }\n",
       "\n",
       "    .dataframe thead th {\n",
       "        text-align: right;\n",
       "    }\n",
       "</style>\n",
       "<table border=\"1\" class=\"dataframe\">\n",
       "  <thead>\n",
       "    <tr style=\"text-align: right;\">\n",
       "      <th></th>\n",
       "      <th>Label</th>\n",
       "      <th>Text</th>\n",
       "    </tr>\n",
       "  </thead>\n",
       "  <tbody>\n",
       "    <tr>\n",
       "      <th>0</th>\n",
       "      <td>0</td>\n",
       "      <td>Go until jurong point crazy.. Available only i...</td>\n",
       "    </tr>\n",
       "    <tr>\n",
       "      <th>1</th>\n",
       "      <td>0</td>\n",
       "      <td>Ok lar... Joking wif u oni...</td>\n",
       "    </tr>\n",
       "    <tr>\n",
       "      <th>2</th>\n",
       "      <td>1</td>\n",
       "      <td>Free entry in 2 a wkly comp to win FA Cup fina...</td>\n",
       "    </tr>\n",
       "    <tr>\n",
       "      <th>3</th>\n",
       "      <td>0</td>\n",
       "      <td>U dun say so early hor... U c already then say...</td>\n",
       "    </tr>\n",
       "    <tr>\n",
       "      <th>4</th>\n",
       "      <td>0</td>\n",
       "      <td>Nah I dont think he goes to usf he lives aroun...</td>\n",
       "    </tr>\n",
       "    <tr>\n",
       "      <th>...</th>\n",
       "      <td>...</td>\n",
       "      <td>...</td>\n",
       "    </tr>\n",
       "    <tr>\n",
       "      <th>5569</th>\n",
       "      <td>1</td>\n",
       "      <td>This is the 2nd time we have tried 2 contact u...</td>\n",
       "    </tr>\n",
       "    <tr>\n",
       "      <th>5570</th>\n",
       "      <td>0</td>\n",
       "      <td>Will  b going to esplanade fr home</td>\n",
       "    </tr>\n",
       "    <tr>\n",
       "      <th>5571</th>\n",
       "      <td>0</td>\n",
       "      <td>Pity  was in mood for that. So...any other sug...</td>\n",
       "    </tr>\n",
       "    <tr>\n",
       "      <th>5572</th>\n",
       "      <td>0</td>\n",
       "      <td>The guy did some bitching but I acted like id ...</td>\n",
       "    </tr>\n",
       "    <tr>\n",
       "      <th>5573</th>\n",
       "      <td>0</td>\n",
       "      <td>Rofl. Its true to its name</td>\n",
       "    </tr>\n",
       "  </tbody>\n",
       "</table>\n",
       "<p>5574 rows × 2 columns</p>\n",
       "</div>"
      ],
      "text/plain": [
       "     Label                                               Text\n",
       "0        0  Go until jurong point crazy.. Available only i...\n",
       "1        0                      Ok lar... Joking wif u oni...\n",
       "2        1  Free entry in 2 a wkly comp to win FA Cup fina...\n",
       "3        0  U dun say so early hor... U c already then say...\n",
       "4        0  Nah I dont think he goes to usf he lives aroun...\n",
       "...    ...                                                ...\n",
       "5569     1  This is the 2nd time we have tried 2 contact u...\n",
       "5570     0                 Will  b going to esplanade fr home\n",
       "5571     0  Pity  was in mood for that. So...any other sug...\n",
       "5572     0  The guy did some bitching but I acted like id ...\n",
       "5573     0                         Rofl. Its true to its name\n",
       "\n",
       "[5574 rows x 2 columns]"
      ]
     },
     "execution_count": 24,
     "metadata": {},
     "output_type": "execute_result"
    }
   ],
   "source": [
    "emails_df"
   ]
  },
  {
   "cell_type": "code",
   "execution_count": 25,
   "id": "edf546b3",
   "metadata": {},
   "outputs": [],
   "source": [
    "def explore_data(data_frame):\n",
    "    data = data_frame\n",
    "\n",
    "    plt.rcParams.update({'figure.figsize':(10,3), 'figure.dpi':120})\n",
    "    tokenizer = RegexpTokenizer(r'\\w+')\n",
    "    length_count = [len(tokenizer.tokenize(data['Text'][i])) for i in range(0, len(data))]\n",
    "    plt.hist(length_count)\n",
    "    plt.title('Histogram of SMS Message Length')\n",
    "    plt.xlabel('Message Length in Words')\n",
    "    plt.ylabel('Relative Frequency')\n",
    "    plt.show()\n",
    "    \n",
    "    \n",
    "    labels = data['Label']\n",
    "    plt.hist(labels)\n",
    "    plt.title('Histogram of Class Labels')\n",
    "    plt.xlabel('Label')\n",
    "    plt.ylabel('Relative Frequency')\n",
    "    plt.show()\n",
    "    \n",
    "    print('The percentage of spam in this email set is', 100*round(list(data['Label']).count('1')/len(data),4),'%')\n",
    "        \n",
    "    return None"
   ]
  },
  {
   "cell_type": "code",
   "execution_count": 26,
   "id": "9af38c1e",
   "metadata": {},
   "outputs": [
    {
     "data": {
      "image/png": "[encoded data removed]",
      "text/plain": [
       "<Figure size 1200x360 with 1 Axes>"
      ]
     },
     "metadata": {
      "needs_background": "light"
     },
     "output_type": "display_data"
    },
    {
     "data": {
      "image/png": "[encoded data removed]",
      "text/plain": [
       "<Figure size 1200x360 with 1 Axes>"
      ]
     },
     "metadata": {
      "needs_background": "light"
     },
     "output_type": "display_data"
    },
    {
     "name": "stdout",
     "output_type": "stream",
     "text": [
      "The percentage of spam in this email set is 13.4 %\n"
     ]
    }
   ],
   "source": [
    "explore_data(emails_df)"
   ]
  },
  {
   "cell_type": "code",
   "execution_count": 89,
   "id": "e12d7b5d",
   "metadata": {},
   "outputs": [],
   "source": [
    "# BoW Preparation\n",
    "\n",
    "def BoW_prep(data, feature_extractor):\n",
    "    \n",
    "    if feature_extractor == 'bow':\n",
    "        c = CountVectorizer(stop_words='english', token_pattern=r'\\w+')\n",
    "    elif feature_extractor == 'tfidf':\n",
    "        c = TfidfVectorizer(stop_words='english', token_pattern=r'\\w+')\n",
    "    else:\n",
    "        print('You much choose tf or tfidf as the feature extractor.')\n",
    "    l = LabelEncoder()\n",
    "    \n",
    "    x = c.fit_transform(data['Text']).todense()\n",
    "    print('X matrix:',x)\n",
    "    y = l.fit_transform(data['Label'])\n",
    "    print('y matrix:', y)\n",
    "    print('Vocabulary Size: ' + str(len(c.vocabulary_)))\n",
    "    return x, y "
   ]
  },
  {
   "cell_type": "code",
   "execution_count": 90,
   "id": "8b3d4791",
   "metadata": {},
   "outputs": [
    {
     "name": "stdout",
     "output_type": "stream",
     "text": [
      "X matrix: [[0 0 0 ... 0 0 0]\n",
      " [0 0 0 ... 0 0 0]\n",
      " [0 0 0 ... 0 0 0]\n",
      " ...\n",
      " [0 0 0 ... 0 0 0]\n",
      " [0 0 0 ... 0 0 0]\n",
      " [0 0 0 ... 0 0 0]]\n",
      "y matrix: [0 0 1 ... 0 0 0]\n",
      "Vocabulary Size: 8588\n"
     ]
    }
   ],
   "source": [
    "X_bow, y = BoW_prep(emails_df, 'bow')"
   ]
  },
  {
   "cell_type": "code",
   "execution_count": 91,
   "id": "b2bc12d9",
   "metadata": {},
   "outputs": [
    {
     "name": "stdout",
     "output_type": "stream",
     "text": [
      "X matrix: [[0. 0. 0. ... 0. 0. 0.]\n",
      " [0. 0. 0. ... 0. 0. 0.]\n",
      " [0. 0. 0. ... 0. 0. 0.]\n",
      " ...\n",
      " [0. 0. 0. ... 0. 0. 0.]\n",
      " [0. 0. 0. ... 0. 0. 0.]\n",
      " [0. 0. 0. ... 0. 0. 0.]]\n",
      "y matrix: [0 0 1 ... 0 0 0]\n",
      "Vocabulary Size: 8588\n"
     ]
    }
   ],
   "source": [
    "X_tfidf, y = BoW_prep(emails_df, 'tfidf')"
   ]
  },
  {
   "cell_type": "markdown",
   "id": "e19ff25e",
   "metadata": {},
   "source": [
    "### Running our Models with BoW and TFIDF"
   ]
  },
  {
   "cell_type": "code",
   "execution_count": 92,
   "id": "211065cd",
   "metadata": {},
   "outputs": [],
   "source": [
    "# Train and test splitting\n",
    "\n",
    "def train_test_splitting(X, y, test_size, shuffle):\n",
    "    X_train, X_test, y_train, y_test = train_test_split(X, y, test_size=test_size, shuffle=shuffle)\n",
    "    X_train=np.array(X_train)\n",
    "    y_train=np.array(y_train)\n",
    "    X_test=np.array(X_test)\n",
    "    y_test=np.array(y_test)\n",
    "    \n",
    "    return X_train, y_train, X_test, y_test"
   ]
  },
  {
   "cell_type": "markdown",
   "id": "b4d43402",
   "metadata": {},
   "source": [
    "#### Logistic Regression"
   ]
  },
  {
   "cell_type": "code",
   "execution_count": 93,
   "id": "0abd1ee8",
   "metadata": {},
   "outputs": [],
   "source": [
    "def Logistic_Regression_Model(X_train, y_train, X_test, y_test, solver, penalty, verbose, max_iter):\n",
    "    model = LogisticRegression(solver=solver, penalty=penalty, verbose=verbose, max_iter=max_iter)\n",
    "    model = model.fit(X_train, y_train)\n",
    "    y_pred = model.predict(X_test)\n",
    "    \n",
    "    # TPR defines how many correct positive results occur among all positive samples during the test. \n",
    "    # FPR, defines how many incorrect positive results occur among all negative samples during the test.\n",
    "    \n",
    "    fpr, tpr = roc_curve(y_test, y_pred)[0], roc_curve(y_test, y_pred)[1]\n",
    "    \n",
    "    # AUC is a summary of how well it is classifing\n",
    "    auc_score = auc(fpr, tpr)\n",
    "    \n",
    "    # Plotting Confusion Matrix\n",
    "    cm = confusion_matrix(y_test, y_pred)\n",
    "    ax = plt.subplot()\n",
    "    sns.heatmap(cm, annot=True, fmt='g', ax=ax);  #annot=True to annotate cells, \n",
    "    # ftm='g' to disable scientific notation\n",
    "\n",
    "    # labels, title and ticks\n",
    "    ax.set_xlabel('Predicted labels');ax.set_ylabel('True labels'); \n",
    "    ax.set_title('Confusion Matrix'); \n",
    "    ax.xaxis.set_ticklabels(['Not Spam', 'Spam']); ax.yaxis.set_ticklabels(['Not Spam', 'Spam']);\n",
    "    \n",
    "    print('The AUC score is:', round(auc_score,4))\n",
    "    \n",
    "    "
   ]
  },
  {
   "cell_type": "code",
   "execution_count": 94,
   "id": "26283fb2",
   "metadata": {},
   "outputs": [
    {
     "name": "stdout",
     "output_type": "stream",
     "text": [
      "The AUC score is: 0.9188\n"
     ]
    },
    {
     "data": {
      "image/png": "[encoded data removed]",
      "text/plain": [
       "<Figure size 1200x360 with 2 Axes>"
      ]
     },
     "metadata": {
      "needs_background": "light"
     },
     "output_type": "display_data"
    }
   ],
   "source": [
    "# BoW version\n",
    "\n",
    "X_train, y_train, X_test, y_test = train_test_splitting(X_bow, y, 0.2, True)\n",
    "Logistic_Regression_Model(X_train, y_train, X_test, y_test, 'lbfgs', 'l2', 0, 100)"
   ]
  },
  {
   "cell_type": "code",
   "execution_count": 61,
   "id": "e413078b",
   "metadata": {},
   "outputs": [
    {
     "name": "stdout",
     "output_type": "stream",
     "text": [
      "The AUC score is: 0.8253\n"
     ]
    },
    {
     "data": {
      "image/png": "[encoded data removed]",
      "text/plain": [
       "<Figure size 1200x360 with 2 Axes>"
      ]
     },
     "metadata": {
      "needs_background": "light"
     },
     "output_type": "display_data"
    }
   ],
   "source": [
    "X_train, y_train, X_test, y_test = train_test_splitting(X_tfidf, y, 0.2, True)\n",
    "Logistic_Regression_Model(X_train, y_train, X_test, y_test, 'lbfgs', 'l2', 0, 100)"
   ]
  },
  {
   "cell_type": "markdown",
   "id": "ebf12a22",
   "metadata": {},
   "source": [
    "#### Decision Tree Classifier"
   ]
  },
  {
   "cell_type": "code",
   "execution_count": 32,
   "id": "1622c97c",
   "metadata": {},
   "outputs": [],
   "source": [
    "def Decision_Tree_Classifier(X_train, y_train, X_test, y_test, max_depth):\n",
    "    model = DecisionTreeClassifier(max_depth=max_depth)\n",
    "    model = model.fit(X_train, y_train)\n",
    "    y_pred = model.predict(X_test)\n",
    "    \n",
    "    # TPR defines how many correct positive results occur among all positive samples during the test. \n",
    "    # FPR, defines how many incorrect positive results occur among all negative samples during the test.\n",
    "    \n",
    "    fpr, tpr = roc_curve(y_test, y_pred)[0], roc_curve(y_test, y_pred)[1]\n",
    "    \n",
    "    # AUC is a summary of how well it is classifing\n",
    "    auc_score = auc(fpr, tpr)\n",
    "    \n",
    "    # Plotting Confusion Matrix\n",
    "    cm = confusion_matrix(y_test, y_pred)\n",
    "    ax = plt.subplot()\n",
    "    sns.heatmap(cm, annot=True, fmt='g', ax=ax);  #annot=True to annotate cells, \n",
    "    # ftm='g' to disable scientific notation\n",
    "\n",
    "    # labels, title and ticks\n",
    "    ax.set_xlabel('Predicted labels');ax.set_ylabel('True labels'); \n",
    "    ax.set_title('Confusion Matrix'); \n",
    "    ax.xaxis.set_ticklabels(['0', '1']); ax.yaxis.set_ticklabels(['0', '1']);\n",
    "    \n",
    "    print('The AUC score is:', round(auc_score,4))  "
   ]
  },
  {
   "cell_type": "code",
   "execution_count": 81,
   "id": "5db4f320",
   "metadata": {},
   "outputs": [
    {
     "name": "stdout",
     "output_type": "stream",
     "text": [
      "The AUC score is: 0.9104\n"
     ]
    },
    {
     "data": {
      "image/png": "[encoded data removed]",
      "text/plain": [
       "<Figure size 1200x360 with 2 Axes>"
      ]
     },
     "metadata": {
      "needs_background": "light"
     },
     "output_type": "display_data"
    }
   ],
   "source": [
    "X_train, y_train, X_test, y_test = train_test_splitting(X_bow, y, 0.2, True)\n",
    "Decision_Tree_Classifier(X_train, y_train, X_test, y_test, 150)"
   ]
  },
  {
   "cell_type": "code",
   "execution_count": 63,
   "id": "bb835b76",
   "metadata": {},
   "outputs": [
    {
     "name": "stdout",
     "output_type": "stream",
     "text": [
      "The AUC score is: 0.9185\n"
     ]
    },
    {
     "data": {
      "image/png": "[encoded data removed]",
      "text/plain": [
       "<Figure size 1200x360 with 2 Axes>"
      ]
     },
     "metadata": {
      "needs_background": "light"
     },
     "output_type": "display_data"
    }
   ],
   "source": [
    "X_train, y_train, X_test, y_test = train_test_splitting(X_tfidf, y, 0.2, True)\n",
    "Decision_Tree_Classifier(X_train, y_train, X_test, y_test, 150)"
   ]
  },
  {
   "cell_type": "markdown",
   "id": "67ef3800",
   "metadata": {},
   "source": [
    "## Example: Movie Reviews"
   ]
  },
  {
   "cell_type": "markdown",
   "id": "09e2d603",
   "metadata": {},
   "source": [
    "### Preparing the Reviews"
   ]
  },
  {
   "cell_type": "code",
   "execution_count": 64,
   "id": "f29ed05c",
   "metadata": {},
   "outputs": [],
   "source": [
    "# Needed to remove characters that will cause unicode errors\n",
    "\n",
    "def remove_non_ascii(text):\n",
    "    return ''.join([word for word in text if ord(word) < 128])"
   ]
  },
  {
   "cell_type": "code",
   "execution_count": 65,
   "id": "739371a9",
   "metadata": {},
   "outputs": [],
   "source": [
    "def load_data():\n",
    "    \n",
    "    # os.listdir() method in python is used to get the \n",
    "    # list of all files and directories in the specified directory. \n",
    "    \n",
    "    negative_review_strings = os.listdir('Movie Reviews/review_data/tokens/neg')\n",
    "    positive_review_strings = os.listdir('Movie Reviews/review_data/tokens/pos')\n",
    "    negative_reviews, positive_reviews = [], []\n",
    "    \n",
    "    for positive_review in positive_review_strings:\n",
    "        with open('Movie Reviews/review_data/tokens/pos/'+str(positive_review), 'r') as positive_file:\n",
    "            positive_reviews.append(remove_non_ascii(positive_file.read()))\n",
    "    # Note, since we have the \"open()\" as 'r', we need to do file.read() to access it\n",
    "    \n",
    "    for negative_review in negative_review_strings:\n",
    "        with open('Movie Reviews/review_data/tokens/neg/'+str(negative_review), 'r') as negative_file:\n",
    "            negative_reviews.append(remove_non_ascii(negative_file.read()))\n",
    "    \n",
    "    negative_labels, positive_labels = np.repeat(0, len(negative_reviews)), np.repeat(1, len(positive_reviews))\n",
    "    # This just makes a bunch of 0s and 1s\n",
    "    \n",
    "    labels = np.concatenate([negative_labels, positive_labels])\n",
    "    # Getting our full list of 0s and 1s\n",
    "    reviews = np.concatenate([negative_reviews, positive_reviews])\n",
    "    # Gettings all our reviews in order of negative then positive\n",
    "    \n",
    "    # From here, we could sample the rows if we wanted, or we could leave it the full dataset\n",
    "#     rows = np.random.random_integers(0, len(reviews)-1, len(reviews)-1) \n",
    "#     data = pd.DataFrame(np.array([labels[rows], reviews[rows]]).T, columns=['Label', 'Text'])\n",
    "\n",
    "    data = pd.DataFrame(np.array([labels, reviews]).T, columns=['Label', 'Text'])\n",
    "\n",
    "    return data"
   ]
  },
  {
   "cell_type": "code",
   "execution_count": 66,
   "id": "658b4a51",
   "metadata": {},
   "outputs": [],
   "source": [
    "movie_data = load_data()"
   ]
  },
  {
   "cell_type": "code",
   "execution_count": 67,
   "id": "5985991d",
   "metadata": {},
   "outputs": [
    {
     "data": {
      "text/html": [
       "<div>\n",
       "<style scoped>\n",
       "    .dataframe tbody tr th:only-of-type {\n",
       "        vertical-align: middle;\n",
       "    }\n",
       "\n",
       "    .dataframe tbody tr th {\n",
       "        vertical-align: top;\n",
       "    }\n",
       "\n",
       "    .dataframe thead th {\n",
       "        text-align: right;\n",
       "    }\n",
       "</style>\n",
       "<table border=\"1\" class=\"dataframe\">\n",
       "  <thead>\n",
       "    <tr style=\"text-align: right;\">\n",
       "      <th></th>\n",
       "      <th>Label</th>\n",
       "      <th>Text</th>\n",
       "    </tr>\n",
       "  </thead>\n",
       "  <tbody>\n",
       "    <tr>\n",
       "      <th>0</th>\n",
       "      <td>0</td>\n",
       "      <td>tristar / 1 : 30 / 1997 / r ( language , viole...</td>\n",
       "    </tr>\n",
       "    <tr>\n",
       "      <th>1</th>\n",
       "      <td>0</td>\n",
       "      <td>arlington road 1/4 . directed by mark pellingt...</td>\n",
       "    </tr>\n",
       "    <tr>\n",
       "      <th>2</th>\n",
       "      <td>0</td>\n",
       "      <td>the brady bunch movie is less a motion picture...</td>\n",
       "    </tr>\n",
       "    <tr>\n",
       "      <th>3</th>\n",
       "      <td>0</td>\n",
       "      <td>janeane garofalo in a romantic comedy -- it wa...</td>\n",
       "    </tr>\n",
       "    <tr>\n",
       "      <th>4</th>\n",
       "      <td>0</td>\n",
       "      <td>i'm going to keep this plot summary brief , so...</td>\n",
       "    </tr>\n",
       "  </tbody>\n",
       "</table>\n",
       "</div>"
      ],
      "text/plain": [
       "  Label                                               Text\n",
       "0     0  tristar / 1 : 30 / 1997 / r ( language , viole...\n",
       "1     0  arlington road 1/4 . directed by mark pellingt...\n",
       "2     0  the brady bunch movie is less a motion picture...\n",
       "3     0  janeane garofalo in a romantic comedy -- it wa...\n",
       "4     0  i'm going to keep this plot summary brief , so..."
      ]
     },
     "execution_count": 67,
     "metadata": {},
     "output_type": "execute_result"
    }
   ],
   "source": [
    "movie_data.head()"
   ]
  },
  {
   "cell_type": "markdown",
   "id": "c11d386e",
   "metadata": {},
   "source": [
    "### Running our Models"
   ]
  },
  {
   "cell_type": "code",
   "execution_count": 82,
   "id": "2214d551",
   "metadata": {},
   "outputs": [
    {
     "name": "stdout",
     "output_type": "stream",
     "text": [
      "X matrix: [[0 0 0 ... 0 0 0]\n",
      " [0 0 0 ... 0 0 0]\n",
      " [0 0 0 ... 0 0 0]\n",
      " ...\n",
      " [0 0 0 ... 0 0 0]\n",
      " [0 0 0 ... 0 0 1]\n",
      " [0 0 2 ... 0 0 0]]\n",
      "y matrix: [0 0 0 ... 1 1 1]\n",
      "Vocabulary Size: 35300\n"
     ]
    }
   ],
   "source": [
    "X_bow, y = BoW_prep(movie_data, 'bow')"
   ]
  },
  {
   "cell_type": "code",
   "execution_count": 69,
   "id": "c089c06e",
   "metadata": {},
   "outputs": [
    {
     "name": "stdout",
     "output_type": "stream",
     "text": [
      "X matrix: [[0.         0.         0.         ... 0.         0.         0.        ]\n",
      " [0.         0.         0.         ... 0.         0.         0.        ]\n",
      " [0.         0.         0.         ... 0.         0.         0.        ]\n",
      " ...\n",
      " [0.         0.         0.         ... 0.         0.         0.        ]\n",
      " [0.         0.         0.         ... 0.         0.         0.0697325 ]\n",
      " [0.         0.         0.04529981 ... 0.         0.         0.        ]]\n",
      "y matrix: [0 0 0 ... 1 1 1]\n",
      "Vocabulary Size: 35300\n"
     ]
    }
   ],
   "source": [
    "X_tfidf, y = BoW_prep(movie_data, 'tfidf')"
   ]
  },
  {
   "cell_type": "markdown",
   "id": "9b6e11ae",
   "metadata": {},
   "source": [
    "#### Logistic Regression"
   ]
  },
  {
   "cell_type": "code",
   "execution_count": 83,
   "id": "27463c8a",
   "metadata": {},
   "outputs": [
    {
     "name": "stdout",
     "output_type": "stream",
     "text": [
      "The AUC score is: 0.7922\n"
     ]
    },
    {
     "data": {
      "image/png": "[encoded data removed]",
      "text/plain": [
       "<Figure size 1200x360 with 2 Axes>"
      ]
     },
     "metadata": {
      "needs_background": "light"
     },
     "output_type": "display_data"
    }
   ],
   "source": [
    "X_train, y_train, X_test, y_test = train_test_splitting(X_bow, y, 0.2, True)\n",
    "Logistic_Regression_Model(X_train, y_train, X_test, y_test, 'lbfgs', 'l2', 0, 150)"
   ]
  },
  {
   "cell_type": "code",
   "execution_count": 77,
   "id": "4d802778",
   "metadata": {},
   "outputs": [
    {
     "name": "stdout",
     "output_type": "stream",
     "text": [
      "The AUC score is: 0.8048\n"
     ]
    },
    {
     "data": {
      "image/png": "[encoded data removed]",
      "text/plain": [
       "<Figure size 1200x360 with 2 Axes>"
      ]
     },
     "metadata": {
      "needs_background": "light"
     },
     "output_type": "display_data"
    }
   ],
   "source": [
    "X_train, y_train, X_test, y_test = train_test_splitting(X_tfidf, y, 0.2, True)\n",
    "Logistic_Regression_Model(X_train, y_train, X_test, y_test, 'lbfgs', 'l2', 0, 150)"
   ]
  },
  {
   "cell_type": "markdown",
   "id": "1b460147",
   "metadata": {},
   "source": [
    "#### Decision Tree Classifier"
   ]
  },
  {
   "cell_type": "code",
   "execution_count": 84,
   "id": "f51346b3",
   "metadata": {},
   "outputs": [
    {
     "name": "stdout",
     "output_type": "stream",
     "text": [
      "The AUC score is: 0.6609\n"
     ]
    },
    {
     "data": {
      "image/png": "[encoded data removed]",
      "text/plain": [
       "<Figure size 1200x360 with 2 Axes>"
      ]
     },
     "metadata": {
      "needs_background": "light"
     },
     "output_type": "display_data"
    }
   ],
   "source": [
    "X_train, y_train, X_test, y_test = train_test_splitting(X_bow, y, 0.2, True)\n",
    "Decision_Tree_Classifier(X_train, y_train, X_test, y_test, 150)"
   ]
  },
  {
   "cell_type": "code",
   "execution_count": 73,
   "id": "38a9e554",
   "metadata": {},
   "outputs": [
    {
     "name": "stdout",
     "output_type": "stream",
     "text": [
      "The AUC score is: 0.6275\n"
     ]
    },
    {
     "data": {
      "image/png": "[encoded data removed]",
      "text/plain": [
       "<Figure size 1200x360 with 2 Axes>"
      ]
     },
     "metadata": {
      "needs_background": "light"
     },
     "output_type": "display_data"
    }
   ],
   "source": [
    "X_train, y_train, X_test, y_test = train_test_splitting(X_tfidf, y, 0.2, True)\n",
    "Decision_Tree_Classifier(X_train, y_train, X_test, y_test, 150)"
   ]
  }
 ],
 "metadata": {
  "kernelspec": {
   "display_name": "Python 3.8.5 64-bit",
   "language": "python",
   "name": "python3"
  },
  "language_info": {
   "codemirror_mode": {
    "name": "ipython",
    "version": 3
   },
   "file_extension": ".py",
   "mimetype": "text/x-python",
   "name": "python",
   "nbconvert_exporter": "python",
   "pygments_lexer": "ipython3",
   "version": "3.8.5"
  },
  "toc": {
   "base_numbering": 1,
   "nav_menu": {},
   "number_sections": true,
   "sideBar": true,
   "skip_h1_title": false,
   "title_cell": "Table of Contents",
   "title_sidebar": "Contents",
   "toc_cell": false,
   "toc_position": {},
   "toc_section_display": true,
   "toc_window_display": true
  },
  "vscode": {
   "interpreter": {
    "hash": "f29b61da7ac136fd9e3aa25873ac13829cb3605990abe87e6a0361adff99c357"
   }
  }
 },
 "nbformat": 4,
 "nbformat_minor": 5
}
